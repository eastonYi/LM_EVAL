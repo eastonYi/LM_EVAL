{
 "cells": [
  {
   "cell_type": "code",
   "execution_count": null,
   "metadata": {
    "collapsed": true
   },
   "outputs": [],
   "source": [
    "from hashlib import md5"
   ]
  },
  {
   "cell_type": "markdown",
   "metadata": {},
   "source": [
    "# fake labelled samples"
   ]
  },
  {
   "cell_type": "code",
   "execution_count": null,
   "metadata": {
    "collapsed": true
   },
   "outputs": [],
   "source": [
    "# base_dir = '/home/easton/projects/tfhouse_v1/egs/aishell2/exp/AISHELL-2/transformer_saa_encoder_4gpu_320_2560_ctc_ce_loss/'\n",
    "# output_target = base_dir + 'targets_of_beam16_from_average8ckpts-0'\n",
    "# output_predict = base_dir + 'preds_of_beam16_from_average8ckpts-0'\n",
    "\n",
    "# base_dir = '/data3/easton/data/AISHELL-2/random_100h/org_data/random-100_plus_100-of-900/'\n",
    "# output_target = base_dir + 'targets_of_beam16_from_average8ckpts-0'\n",
    "# output_predict = base_dir + 'preds_of_beam16_from_average8ckpts-0'\n",
    "\n",
    "base_dir = '/home/easton/projects/tfhouse/egs_v3/aishell-2/exp/transformer_random100h/'\n",
    "output_target = base_dir + '16_beam100-of-900_from_average8ckpts-0.top4.ref'\n",
    "output_predict = base_dir + '16_beam100-of-900_from_average8ckpts-0.top4.res'\n",
    "dict_md52trans = {}\n",
    "with open(output_target) as f1, open(output_predict) as f2:\n",
    "    for i, (l1, l2) in enumerate(zip(f1, f2)):\n",
    "        if i % 4 != 0: continue\n",
    "        \n",
    "        try:\n",
    "            target = l1.strip().split()[1]\n",
    "            key = md5(target.encode('utf-8')).hexdigest()\n",
    "            predits = l2.strip().split()[1]\n",
    "            dict_md52trans[key] = predits\n",
    "        except:\n",
    "            print(l1, l2)\n",
    "            continue\n",
    "\n",
    "real_labelled = '/data3/easton/data/AISHELL-2/random_100h/org_data/100-of-900/trans.char'\n",
    "fake_labelled ='/data3/easton/data/AISHELL-2/random_100h/org_data/100+100-of-900/trans-pred_100h.char'\n",
    "with open(real_labelled) as f, open(fake_labelled, 'w') as fw:\n",
    "    for line in f:\n",
    "        try:\n",
    "            uttid, trans = line.strip().split(maxsplit=1)\n",
    "            key = md5(trans.replace(' ', '').encode('utf-8')).hexdigest()\n",
    "\n",
    "            new_line = uttid + ' ' + ' '.join(dict_md52trans[key])\n",
    "            fw.write(new_line + '\\n')\n",
    "        except KeyError:\n",
    "            print(uttid, trans.replace(' ', ''))\n",
    "            continue"
   ]
  },
  {
   "cell_type": "markdown",
   "metadata": {},
   "source": [
    "# fixed2trans\n",
    "把修正后的识别结果转化为trans"
   ]
  },
  {
   "cell_type": "code",
   "execution_count": null,
   "metadata": {
    "collapsed": true
   },
   "outputs": [],
   "source": [
    "f_trans = ''\n",
    "f_fix = \n",
    "f_fixed_trans = \n",
    "f_org_trans = \n",
    "\n",
    "dict_trans2uttid = {}\n",
    "with open(f_trans) as f:\n",
    "    for line in f:\n",
    "        uttid, trans = line.strip().split(1)\n",
    "        key = md5(trans.replace(' ', '').encode('utf-8')).hexdigest()\n",
    "        dict_trans2uttid[key] = uttid\n",
    "        \n",
    "with open(f_fixed) as f, open(f_org_trans, 'w') as fw1, open(f_fixed_trans, 'w') as fw2:\n",
    "    for line in f:\n",
    "        res = line.strip().split(',')\n",
    "        key = res[0].split(':')[1].encode('utf-8').hexdigest()\n",
    "        uttid = dict_trans2uttid[key]\n",
    "        trans_org = res[1].split(':')[1]\n",
    "        try:\n",
    "            trans_fix = res[2].split(':')[1]\n",
    "        except:\n",
    "            trans_fix = None\n",
    "            \n",
    "        fw1.write(uttid + ' ' + ' '.join(trans_org))\n",
    "        if trans_fix:\n",
    "            fw2.write(uttid + ' ' + ' '.join(trans_fix))"
   ]
  },
  {
   "cell_type": "code",
   "execution_count": null,
   "metadata": {
    "collapsed": true
   },
   "outputs": [],
   "source": []
  }
 ],
 "metadata": {
  "kernelspec": {
   "display_name": "Python 3",
   "language": "python",
   "name": "python3"
  },
  "language_info": {
   "codemirror_mode": {
    "name": "ipython",
    "version": 3
   },
   "file_extension": ".py",
   "mimetype": "text/x-python",
   "name": "python",
   "nbconvert_exporter": "python",
   "pygments_lexer": "ipython3",
   "version": "3.7.3"
  }
 },
 "nbformat": 4,
 "nbformat_minor": 2
}
